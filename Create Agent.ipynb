{
 "cells": [
  {
   "cell_type": "markdown",
   "id": "8c8f02d7",
   "metadata": {},
   "source": [
    "This document is number `1 of 5` documents I have written, based on the `LangChain Academy Deep Agents with LangGraph` course.\n",
    "\n",
    "The course itself has repositories that it provides you with. If my documents are not useful to you, I suggest you check them out.\n",
    "\n",
    "There are now several successful examples of very **capable** and **long-running** agents. They have given these agents the \n",
    "name `“Deep Agents”` because they believe that they are completely different from previous generations of agents. In \n",
    "this course, you will learn what makes them different and build your own Deep Agent.\n",
    "\n",
    "In LangChain, a Deep Agent is built that is simple and configurable, allowing users to build long-running agents quickly and easily.\n",
    "\n",
    "In this course, you will build a **Deep Research Agent** using Deep Agent. The course is divided into seven modules.\n",
    "\n",
    "Each module includes a video lesson that introduces you to the key concepts, along with related workbooks.\n",
    "\n",
    "---"
   ]
  },
  {
   "cell_type": "markdown",
   "id": "61ffcad6",
   "metadata": {},
   "source": [
    "This document walks you through creating a **ReAct** *(Reasoning and Acting)* AI agent using LangGraph’s prebuilt abstractions. The goal is to provide clear explanations and code examples so that even readers new to LangGraph can follow along and fully understand how it works.\n",
    "\n",
    "LangGraph is a library for building `“graph-based”` AI workflows. The [prebuilt React agent](https://python.langchain.com/en/latest/modules/langchain/index.html#langgraph.prebuilt.create_react_agent) abstraction makes it easy to create an agent that reasons step-by-step (chain-of-thought) and calls external tools when needed. \n",
    "\n",
    "In this document, we’ll:\n",
    "\n",
    "- Explain the ReAct framework and agent components\n",
    "\n",
    "- Show how to define tools that the agent can call\n",
    "\n",
    "- Build and invoke a ReAct agent with a calculator tool\n",
    "\n",
    "- Examine how the agent’s graph, state, and messaging loop work\n",
    "\n",
    "- Access and modify agent state inside tools"
   ]
  },
  {
   "cell_type": "markdown",
   "id": "589f6af8",
   "metadata": {},
   "source": [
    "#### What is a ReAct Agent?\n",
    "A ReAct agent combines **chain-of-thought reasoning** **(CoT)** with the ability to call external tools during the reasoning process. It operates in a loop:\n",
    "\n",
    "- **LLM Thinks:** The language model (LLM) reviews its system prompt, the conversation history, and information about available tools.\n",
    "\n",
    "- **Decide to Act:** The LLM decides if a tool is needed to answer the question or help reasoning. If so, it selects a tool and provides the arguments for that tool in a special `“tool call.”`\n",
    "\n",
    "- **Call Tools:** The agent framework detects the tool call, executes the corresponding tool (e.g., a calculator, search engine, or any custom function), and returns the result.\n",
    "\n",
    "- **Observe and Continue:** The LLM sees the tool’s output (the observation), incorporates it into its reasoning, and either calls another tool or generates a final answer.\n",
    "\n",
    "- **Loop Ends:** When the LLM no longer needs any more tools, it produces a final response to the user.\n",
    "\n",
    "The LangGraph `create_react_agent` function automates this loop. You provide an LLM (via LangChain), one or more tools (functions decorated with `@tool`), and an optional system prompt. Under the hood, LangGraph builds a state graph with nodes for the LLM and tool executions, handling the message flow, state updates, and stopping conditions for you.\n",
    "\n",
    "#### Key Features of LangGraph’s Prebuilt Agent\n",
    "\n",
    "The `create_react_agent` abstraction offers many advanced features (we won’t use all of them in this simple example, but they’re worth knowing):\n",
    "\n",
    "- **Memory:** You can enable *short-term* or *long-term* memory to make the agent’s behavior stateful across turns or sessions.\n",
    "\n",
    "- **Human-in-the-loop:** The agent can pause for human feedback or approval between steps.\n",
    "\n",
    "- **Streaming:** Support for streaming tokens and tool outputs in real time.\n",
    "\n",
    "- **Traces:** Integrates with LangSmith to trace and debug the agent’s execution.\n",
    "\n",
    "- **Structured Output:** Define a schema for the final response, and LangGraph can enforce and output structured `JSON`.\n",
    "\n",
    "In this document, we’ll use the “simple” agent format without hooks or structured outputs, just to focus on the core mechanism. We will, however, demonstrate how to manage custom state and look at how tool calls work in practice.\n"
   ]
  },
  {
   "cell_type": "markdown",
   "id": "67959ed7",
   "metadata": {},
   "source": [
    "#### Defining a Tool\n",
    "Agents become truly powerful when they can call tools—special functions that do tasks like *calculations*, *web searches*, *database queries*, etc. For this example, we’ll create a simple **calculator tool**.\n",
    "\n",
    "Using LangChain’s `@tool` decorator, we define any Python function as a callable tool. Here’s a basic **two-input** calculator:"
   ]
  },
  {
   "cell_type": "code",
   "execution_count": 1,
   "id": "8f934d18",
   "metadata": {},
   "outputs": [],
   "source": [
    "from typing import Literal, Union\n",
    "from langchain_core.tools import tool\n",
    "\n",
    "@tool\n",
    "def calculator(\n",
    "    operation: Literal[\"add\", \"subtract\", \"multiply\", \"divide\"],\n",
    "    a: Union[int, float],\n",
    "    b: Union[int, float],\n",
    ") -> Union[int, float]:\n",
    "    \"\"\"A simple calculator that adds, subtracts, multiplies, or divides two numbers.\"\"\"\n",
    "    # Handle edge cases\n",
    "    if operation == \"divide\" and b == 0:\n",
    "        return {\"error\": \"Division by zero is not allowed.\"}\n",
    "\n",
    "    # Perform the calculation\n",
    "    if operation == \"add\":\n",
    "        return a + b\n",
    "    elif operation == \"subtract\":\n",
    "        return a - b\n",
    "    elif operation == \"multiply\":\n",
    "        return a * b\n",
    "    elif operation == \"divide\":\n",
    "        return a / b\n",
    "    else:\n",
    "        return \"unknown operation\"\n"
   ]
  },
  {
   "cell_type": "markdown",
   "id": "5ccbde70",
   "metadata": {},
   "source": [
    "**Explanation:**\n",
    "\n",
    "We use a type `Literal[...]` for the operation argument so the agent knows the tool takes one of these four operations.\n",
    "\n",
    "The function returns the calculation result (or an error message if dividing by zero).\n",
    "\n",
    "The returned value (even a dict with an error) will become the `“tool output”` that the agent can pass back to the LLM.\n"
   ]
  },
  {
   "cell_type": "markdown",
   "id": "491622b8",
   "metadata": {},
   "source": [
    "#### Building the Agent\n",
    "With the tool defined, we create the agent by calling `create_react_agent`. \n",
    "We need to provide:\n",
    "\n",
    "- The LLM model to use (via LangChain).\n",
    "\n",
    "- A list of tools (our calculator, and we could add more later).\n",
    "\n",
    "- A system prompt that explains the agent’s role or instructions.\n",
    "\n",
    "- Optionally, a state schema if we want to track custom state (*we’ll do that later*)."
   ]
  },
  {
   "cell_type": "code",
   "execution_count": null,
   "id": "4da142bd",
   "metadata": {},
   "outputs": [],
   "source": [
    "from langchain.chat_models import init_chat_model\n",
    "from langgraph.prebuilt import create_react_agent\n",
    "\n",
    "# 1) Define a system prompt for the agent\n",
    "SYSTEM_PROMPT = (\n",
    "    \"You are a helpful arithmetic assistant who is an expert at using a calculator.\"\n",
    "    )   \n",
    "\n",
    "# 2) Initialize the LLM (ensure OPENAI_API_KEY is set)\n",
    "model = init_chat_model(model=\"openai:gpt-4o-mini\", api_key=\"sk-proj-***\", temperature=0.0)\n",
    "\n",
    "# 3) Create the agent with the model and the calculator tool\n",
    "agent = create_react_agent(\n",
    "    model=model,\n",
    "    tools=[calculator],\n",
    "    prompt=SYSTEM_PROMPT,\n",
    "    # state_schema defaults to AgentState\n",
    ").with_config({\"recursion_limit\": 20})\n"
   ]
  },
  {
   "cell_type": "markdown",
   "id": "e5368085",
   "metadata": {},
   "source": [
    "**Key points:**\n",
    "\n",
    "`init_chat_model` loads a chat model (here *gpt-4o-mini*). You can also use `ChatOpenAI` directly. The `temperature=0.0` makes it deterministic.\n",
    "``create_react_agent`` returns a compiled state graph (the agent). We pass our single calculator tool in a list.\n",
    "We set `recursion_limit` to 20 to prevent the agent from looping forever calling tools. This is the max number of **LLM→tool** steps."
   ]
  },
  {
   "cell_type": "markdown",
   "id": "2b49151f",
   "metadata": {},
   "source": [
    "#### Visualize the agent graph"
   ]
  },
  {
   "cell_type": "code",
   "execution_count": 3,
   "id": "677895e3",
   "metadata": {},
   "outputs": [
    {
     "data": {
      "image/png": "[encoded data removed]",
      "text/plain": [
       "<IPython.core.display.Image object>"
      ]
     },
     "metadata": {},
     "output_type": "display_data"
    }
   ],
   "source": [
    "from IPython.display import Image, display\n",
    "\n",
    "display(Image(agent.get_graph(xray=True).draw_mermaid_png()))"
   ]
  },
  {
   "cell_type": "markdown",
   "id": "0f97a34b",
   "metadata": {},
   "source": [
    "Invoking the Agent\n",
    "To use the agent, we call `agent.invoke(...)` with an input message. The message format is a list of messages (like in LangChain). \n",
    "Here’s an example:"
   ]
  },
  {
   "cell_type": "code",
   "execution_count": 4,
   "id": "49657afe",
   "metadata": {},
   "outputs": [
    {
     "name": "stdout",
     "output_type": "stream",
     "text": [
      "🧑 Human: What is 3.1 * 4.2?\n",
      "📝 AI:\n",
      "    🔧 Tool Call: calculator \n",
      "        Args: {'operation': 'multiply', 'a': 3.1, 'b': 4.2}\n",
      "🛠️ Tool Output: 13.020000000000001\n",
      "📝 AI: The result of \\( 3.1 \\times 4.2 \\) is approximately \\( 13.02 \\).\n"
     ]
    }
   ],
   "source": [
    "from langchain_core.messages import HumanMessage ,ToolMessage\n",
    "\n",
    "# Local helper to pretty-print message history\n",
    "def FormatMessages(messages):\n",
    "    for message in messages:\n",
    "        if isinstance(message, HumanMessage):\n",
    "            print(f\"🧑 Human: {message.content}\")\n",
    "        elif hasattr(message, \"tool_calls\") and getattr(message, \"tool_calls\"):\n",
    "            print(\"📝 AI:\")\n",
    "            for call in message.tool_calls:\n",
    "                name = call.get(\"name\")\n",
    "                args = call.get(\"args\")\n",
    "                print(f\"    🔧 Tool Call: {name} \")\n",
    "                print(f\"        Args: {args}\")\n",
    "        elif isinstance(message, ToolMessage):\n",
    "            print(f\"🛠️ Tool Output: {message.content}\")\n",
    "        else:\n",
    "            content = getattr(message, \"content\", \"\")\n",
    "            if content:\n",
    "                print(f\"📝 AI: {content}\")\n",
    "\n",
    "result1 = agent.invoke(\n",
    "    {\n",
    "        \"messages\": [\n",
    "            {\"role\": \"user\", \"content\": \"What is 3.1 * 4.2?\"}\n",
    "        ]\n",
    "    }\n",
    ")\n",
    "\n",
    "FormatMessages(result1[\"messages\"])"
   ]
  },
  {
   "cell_type": "markdown",
   "id": "bfe56d56",
   "metadata": {},
   "source": [
    "This returns a dictionary representing the final state after the agent finishes. It includes a `\"messages\"` key, which is the full conversation history (including the assistant’s steps). We used a helper to print the messages:\n",
    "\n",
    "**User asks:** *“What is 3.1 * 4.2?”*\n",
    "\n",
    "**Agent (AI) decides** to use the calculator tool with `operation=\"multiply\"`, *a=3.1*, *b=4.2*. Notice this appears as an AIMessage with a `🔧 Tool Call`.\n",
    "\n",
    "**ToolNode executes:** It runs our calculator function, which returns *13.02*.\n",
    "\n",
    "`Tool output` (13.02) is added to the conversation as a `ToolMessage` (shown as 🛠️ Tool Output).\n",
    "\n",
    "Agent (AI) processes the tool output and gives the final answer: *“3.1 multiplied by 4.2 is 13.02.”*\n",
    "\n",
    "The loop stopped because the agent didn’t request any more tools after getting the result (*enough information to answer the user*).\n",
    "\n",
    "You could log this trace with [LangSmith](https://langchain.com/langsmith) for debugging. \n",
    "The important thing is: the agent alternates between the LLM deciding on an action and executing tools until done."
   ]
  },
  {
   "cell_type": "markdown",
   "id": "65a97170",
   "metadata": {},
   "source": [
    "How It Works: Graph, State, and Messages\n",
    "- Graph: create_react_agent compiles a LangGraph graph with an LLM node and a Tool node.\n",
    "- State: Defaults to AgentState, primarily a list of messages plus a remaining_steps counter.\n",
    "\n",
    "- Messages:\n",
    "    - LLM proposes tool calls via AIMessage(tool_calls=[...])\n",
    "    - Tool node executes registered tools and returns ToolMessage with tool_call_id\n",
    "    - LLM reads observations and decides next action or final answer\n",
    "\n",
    "Internals you’ll observe in traces:\n",
    "\n",
    "- Tool descriptions included in model call metadata\n",
    "- Matching tool_call_id across AI/tool messages"
   ]
  },
  {
   "cell_type": "markdown",
   "id": "7ac52a3a",
   "metadata": {},
   "source": [
    "#### Agent State and Messages\n",
    "LangGraph agents maintain a state, which is a typed dictionary tracking data throughout the execution. By default, the prebuilt agent uses `AgentState`, which looks like this:"
   ]
  },
  {
   "cell_type": "code",
   "execution_count": 5,
   "id": "23d247a7",
   "metadata": {},
   "outputs": [],
   "source": [
    "from typing import Sequence, TypedDict, NotRequired, Annotated\n",
    "from langchain_core.messages import BaseMessage\n",
    "from langgraph.graph.message import add_messages  # a reducer\n",
    "\n",
    "class AgentState(TypedDict):\n",
    "    messages: Annotated[Sequence[BaseMessage], add_messages]\n",
    "    remaining_steps: NotRequired[int]\n"
   ]
  },
  {
   "cell_type": "markdown",
   "id": "8dd1de88",
   "metadata": {},
   "source": [
    "The messages list holds all `BaseMessage` objects (human, AI, or tool messages). The special `add_messages` reducer appends new messages to this list automatically.\n",
    "\n",
    "`remaining_steps` (optional) tracks how many steps the graph is allowed to run before hitting the recursion limit.\n"
   ]
  },
  {
   "cell_type": "code",
   "execution_count": 6,
   "id": "4ebf744d",
   "metadata": {},
   "outputs": [
    {
     "name": "stdout",
     "output_type": "stream",
     "text": [
      "[\n",
      "  {\n",
      "    \"type\": \"human\",\n",
      "    \"data\": {\n",
      "      \"content\": \"What is 3.1 * 4.2?\",\n",
      "      \"additional_kwargs\": {},\n",
      "      \"response_metadata\": {},\n",
      "      \"type\": \"human\",\n",
      "      \"name\": null,\n",
      "      \"id\": \"25f210a3-ed3b-4dbf-856d-6d606c09d9f6\",\n",
      "      \"example\": false\n",
      "    }\n",
      "  },\n",
      "  {\n",
      "    \"type\": \"ai\",\n",
      "    \"data\": {\n",
      "      \"content\": \"\",\n",
      "      \"additional_kwargs\": {\n",
      "        \"tool_calls\": [\n",
      "          {\n",
      "            \"id\": \"call_ohicPHQiXrdCJSHmBJC7yB3L\",\n",
      "            \"function\": {\n",
      "              \"arguments\": \"{\\\"operation\\\":\\\"multiply\\\",\\\"a\\\":3.1,\\\"b\\\":4.2}\",\n",
      "              \"name\": \"calculator\"\n",
      "            },\n",
      "            \"type\": \"function\"\n",
      "          }\n",
      "        ],\n",
      "        \"refusal\": null\n",
      "      },\n",
      "      \"response_metadata\": {\n",
      "        \"token_usage\": {\n",
      "          \"completion_tokens\": 26,\n",
      "          \"prompt_tokens\": 105,\n",
      "          \"total_tokens\": 131,\n",
      "          \"completion_tokens_details\": {\n",
      "            \"accepted_prediction_tokens\": 0,\n",
      "            \"audio_tokens\": 0,\n",
      "            \"reasoning_tokens\": 0,\n",
      "            \"rejected_prediction_tokens\": 0\n",
      "          },\n",
      "          \"prompt_tokens_details\": {\n",
      "            \"audio_tokens\": 0,\n",
      "            \"cached_tokens\": 0\n",
      "          }\n",
      "        },\n",
      "        \"model_name\": \"gpt-4o-mini-2024-07-18\",\n",
      "        \"system_fingerprint\": \"fp_560af6e559\",\n",
      "        \"id\": \"chatcmpl-CLoO3SENRsHVWKwXLjcIeRdY917fS\",\n",
      "        \"service_tier\": \"default\",\n",
      "        \"finish_reason\": \"tool_calls\",\n",
      "        \"logprobs\": null\n",
      "      },\n",
      "      \"type\": \"ai\",\n",
      "      \"name\": null,\n",
      "      \"id\": \"run--2b25c0cf-3d05-4f47-b1c3-15cde96fbb6e-0\",\n",
      "      \"example\": false,\n",
      "      \"tool_calls\": [\n",
      "        {\n",
      "          \"name\": \"calculator\",\n",
      "          \"args\": {\n",
      "            \"operation\": \"multiply\",\n",
      "            \"a\": 3.1,\n",
      "            \"b\": 4.2\n",
      "          },\n",
      "          \"id\": \"call_ohicPHQiXrdCJSHmBJC7yB3L\",\n",
      "          \"type\": \"tool_call\"\n",
      "        }\n",
      "      ],\n",
      "      \"invalid_tool_calls\": [],\n",
      "      \"usage_metadata\": {\n",
      "        \"input_tokens\": 105,\n",
      "        \"output_tokens\": 26,\n",
      "        \"total_tokens\": 131,\n",
      "        \"input_token_details\": {\n",
      "          \"audio\": 0,\n",
      "          \"cache_read\": 0\n",
      "        },\n",
      "        \"output_token_details\": {\n",
      "          \"audio\": 0,\n",
      "          \"reasoning\": 0\n",
      "        }\n",
      "      }\n",
      "    }\n",
      "  },\n",
      "  {\n",
      "    \"type\": \"tool\",\n",
      "    \"data\": {\n",
      "      \"content\": \"13.020000000000001\",\n",
      "      \"additional_kwargs\": {},\n",
      "      \"response_metadata\": {},\n",
      "      \"type\": \"tool\",\n",
      "      \"name\": \"calculator\",\n",
      "      \"id\": \"c7593da4-5ab7-4c7d-bdaf-08a16c34f29e\",\n",
      "      \"tool_call_id\": \"call_ohicPHQiXrdCJSHmBJC7yB3L\",\n",
      "      \"artifact\": null,\n",
      "      \"status\": \"success\"\n",
      "    }\n",
      "  },\n",
      "  {\n",
      "    \"type\": \"ai\",\n",
      "    \"data\": {\n",
      "      \"content\": \"The result of \\\\( 3.1 \\\\times 4.2 \\\\) is approximately \\\\( 13.02 \\\\).\",\n",
      "      \"additional_kwargs\": {\n",
      "        \"refusal\": null\n",
      "      },\n",
      "      \"response_metadata\": {\n",
      "        \"token_usage\": {\n",
      "          \"completion_tokens\": 26,\n",
      "          \"prompt_tokens\": 145,\n",
      "          \"total_tokens\": 171,\n",
      "          \"completion_tokens_details\": {\n",
      "            \"accepted_prediction_tokens\": 0,\n",
      "            \"audio_tokens\": 0,\n",
      "            \"reasoning_tokens\": 0,\n",
      "            \"rejected_prediction_tokens\": 0\n",
      "          },\n",
      "          \"prompt_tokens_details\": {\n",
      "            \"audio_tokens\": 0,\n",
      "            \"cached_tokens\": 0\n",
      "          }\n",
      "        },\n",
      "        \"model_name\": \"gpt-4o-mini-2024-07-18\",\n",
      "        \"system_fingerprint\": \"fp_560af6e559\",\n",
      "        \"id\": \"chatcmpl-CLoO5BK61nBfTMsiFTgxBj8oIjKG4\",\n",
      "        \"service_tier\": \"default\",\n",
      "        \"finish_reason\": \"stop\",\n",
      "        \"logprobs\": null\n",
      "      },\n",
      "      \"type\": \"ai\",\n",
      "      \"name\": null,\n",
      "      \"id\": \"run--17ae89dd-4a38-4aea-ba5f-092dba802db7-0\",\n",
      "      \"example\": false,\n",
      "      \"tool_calls\": [],\n",
      "      \"invalid_tool_calls\": [],\n",
      "      \"usage_metadata\": {\n",
      "        \"input_tokens\": 145,\n",
      "        \"output_tokens\": 26,\n",
      "        \"total_tokens\": 171,\n",
      "        \"input_token_details\": {\n",
      "          \"audio\": 0,\n",
      "          \"cache_read\": 0\n",
      "        },\n",
      "        \"output_token_details\": {\n",
      "          \"audio\": 0,\n",
      "          \"reasoning\": 0\n",
      "        }\n",
      "      }\n",
      "    }\n",
      "  }\n",
      "]\n"
     ]
    }
   ],
   "source": [
    "from langchain_core.messages import messages_to_dict\n",
    "import json\n",
    "\n",
    "print(json.dumps(messages_to_dict(result1[\"messages\"]), indent=2))\n"
   ]
  },
  {
   "cell_type": "markdown",
   "id": "997d38d0",
   "metadata": {},
   "source": [
    "This outputs the full sequence of messages the agent exchanged, which can be helpful for debugging or understanding exactly what happened each step."
   ]
  },
  {
   "cell_type": "markdown",
   "id": "1455a377",
   "metadata": {},
   "source": [
    "#### Access and Modify State From Within Tools\n",
    "Sometimes you need tools to **both** return an *observation* and *update extra state* (e.g., an operation log). You can extend the default state and safely update it.\n",
    "\n",
    "#### Extending State: Custom Reducers\n",
    "One powerful feature of LangGraph is you can extend the agent’s state with your own fields. For example, maybe we want the agent to remember a history of operations it performed. We can define a custom state schema by subclassing `AgentState`.\n",
    "\n",
    "First, we write a reducer function for merging lists safely, Then we create a new state type:"
   ]
  },
  {
   "cell_type": "code",
   "execution_count": 7,
   "id": "5150afd3",
   "metadata": {},
   "outputs": [],
   "source": [
    "from typing import Annotated\n",
    "from langgraph.prebuilt.chat_agent_executor import AgentState\n",
    "\n",
    "\n",
    "def reduce_list(left: list | None, right: list | None) -> list:\n",
    "    \"\"\"Safely combine two lists (treat None as empty list).\"\"\"\n",
    "    left = left or []\n",
    "    right = right or []\n",
    "    return left + right\n",
    "\n",
    "class CalcState(AgentState):\n",
    "    \"\"\"Graph State with an operation log.\"\"\"\n",
    "    ops: Annotated[list[str], reduce_list]"
   ]
  },
  {
   "cell_type": "markdown",
   "id": "5cb50652",
   "metadata": {},
   "source": [
    "Here, `ops` is a list of strings, and we use `reduce_list` to tell LangGraph how to combine values if multiple updates happen. This field will track what operations were done."
   ]
  },
  {
   "cell_type": "markdown",
   "id": "90096332",
   "metadata": {},
   "source": [
    "#### Inject state and tool_call_id into the tool\n",
    "Use `InjectedState` to prevent the LLM from seeing/constructing the state argument. Use `InjectedToolCallId` to produce a proper `ToolMessage` that matches the call.\n",
    "\n",
    "When a tool needs to **read** or **update** the agent state, we use special annotations. The LLM itself never sees the full state, so the state object in a tool function must come from an injection by the framework.\n",
    "\n",
    "We modify our calculator tool to accept the state (and the `tool_call_id`) as injected arguments:"
   ]
  },
  {
   "cell_type": "code",
   "execution_count": 8,
   "id": "45a0db48",
   "metadata": {},
   "outputs": [],
   "source": [
    "from langgraph.prebuilt import InjectedState\n",
    "from langchain_core.tools import InjectedToolCallId\n",
    "from langgraph.types import Command\n",
    "from langchain_core.messages import ToolMessage\n",
    "\n",
    "@tool\n",
    "def calculator_wstate(\n",
    "    operation: Literal[\"add\", \"subtract\", \"multiply\", \"divide\"],\n",
    "    a: Union[int, float],\n",
    "    b: Union[int, float],\n",
    "    state: Annotated[CalcState, InjectedState],        # injected by LangGraph\n",
    "    tool_call_id: Annotated[str, InjectedToolCallId],  # injected by LangGraph\n",
    ") -> Command:\n",
    "    \"\"\"Calculator tool that updates state with the operation.\"\"\"\n",
    "    # Perform calculation\n",
    "    if operation == \"divide\" and b == 0:\n",
    "        result = \"error: division by zero\"\n",
    "    elif operation == \"add\":\n",
    "        result = a + b\n",
    "    elif operation == \"subtract\":\n",
    "        result = a - b\n",
    "    elif operation == \"multiply\":\n",
    "        result = a * b\n",
    "    elif operation == \"divide\":\n",
    "        result = a / b\n",
    "    else:\n",
    "        result = \"unknown operation\"\n",
    "    \n",
    "    # Prepare an entry for the operation history\n",
    "    ops_entry = f\"({operation}, {a}, {b})\"\n",
    "    \n",
    "    # Return a Command that updates state\n",
    "    return Command(\n",
    "        update={\n",
    "            \"ops\": [ops_entry],  # adds to the list of ops\n",
    "            \"messages\": [\n",
    "                ToolMessage(str(result), tool_call_id=tool_call_id)\n",
    "            ],\n",
    "        }\n",
    "    )\n"
   ]
  },
  {
   "cell_type": "markdown",
   "id": "94182d09",
   "metadata": {},
   "source": [
    "**How this works:**\n",
    "\n",
    "The state parameter is annotated with `InjectedState`, so LangGraph uses the current graph state (a `CalcState` object) when calling this function. The LLM never sees the state content during thought.\n",
    "\n",
    "`tool_call_id` is similarly injected to link the `ToolMessage` to the original call.\n",
    "\n",
    "Instead of returning the raw result, the tool returns a `Command` with an update dictionary. This tells LangGraph to:\n",
    "- Append `ops_entry` to the `ops` list in state.\n",
    "- Append a `ToolMessage` with the result content to messages in state.\n",
    "\n",
    "The messages key in update with a `ToolMessage` is how we feed the tool’s output back to the LLM. It works like our previous example, but now we manage state updates explicitly."
   ]
  },
  {
   "cell_type": "markdown",
   "id": "e0ad574d",
   "metadata": {},
   "source": [
    "#### Create an agent with the new state schema"
   ]
  },
  {
   "cell_type": "code",
   "execution_count": null,
   "id": "242e4091",
   "metadata": {},
   "outputs": [],
   "source": [
    "SYSTEM_PROMPT = \"You are a helpful arithmetic assistant who is an expert at using a calculator.\"\n",
    "\n",
    "model = init_chat_model(model=\"openai:gpt-4o-mini\", api_key=\"sk-proj-***\", temperature=0.0)\n",
    "tools = [calculator_wstate]\n",
    "\n",
    "agent = create_react_agent(\n",
    "    model,\n",
    "    tools,\n",
    "    prompt=SYSTEM_PROMPT,\n",
    "    state_schema=CalcState,     # custom state\n",
    ").with_config({\"recursion_limit\": 20})\n"
   ]
  },
  {
   "cell_type": "markdown",
   "id": "6cc0cafc",
   "metadata": {},
   "source": [
    "#### Run and inspect state"
   ]
  },
  {
   "cell_type": "code",
   "execution_count": null,
   "id": "9623631a",
   "metadata": {},
   "outputs": [
    {
     "name": "stdout",
     "output_type": "stream",
     "text": [
      "['(multiply, 3.1, 4.2)']\n"
     ]
    }
   ],
   "source": [
    "result2 = agent.invoke(\n",
    "    {\n",
    "        \"messages\": [\n",
    "            {\"role\": \"user\", \"content\": \"What is 3.1 * 4.2?\"}\n",
    "        ],\n",
    "    }\n",
    ")\n",
    "\n",
    "# we can inspect the ops list:\n",
    "print(result2[\"ops\"])  # access the custom state field"
   ]
  },
  {
   "cell_type": "markdown",
   "id": "ec5f9050",
   "metadata": {},
   "source": [
    "#### Parallel tool calls Example\n",
    "The tool node can execute multiple tool calls in parallel when the LLM proposes them in a **single step**. For example:"
   ]
  },
  {
   "cell_type": "code",
   "execution_count": 16,
   "id": "6905b488",
   "metadata": {},
   "outputs": [
    {
     "name": "stdout",
     "output_type": "stream",
     "text": [
      "🧑 Human: What is 3.1 * 4.2 + 5.5 * 6.5?\n",
      "📝 AI:\n",
      "    🔧 Tool Call: calculator_wstate \n",
      "        Args: {'operation': 'multiply', 'a': 3.1, 'b': 4.2}\n",
      "    🔧 Tool Call: calculator_wstate \n",
      "        Args: {'operation': 'multiply', 'a': 5.5, 'b': 6.5}\n",
      "🛠️ Tool Output: 13.020000000000001\n",
      "🛠️ Tool Output: 35.75\n",
      "📝 AI:\n",
      "    🔧 Tool Call: calculator_wstate \n",
      "        Args: {'operation': 'add', 'a': 13.020000000000001, 'b': 35.75}\n",
      "🛠️ Tool Output: 48.77\n",
      "📝 AI: The result of \\( 3.1 \\times 4.2 + 5.5 \\times 6.5 \\) is \\( 48.77 \\).\n",
      "None\n"
     ]
    }
   ],
   "source": [
    "result3 = agent.invoke({\n",
    "    \"messages\": [{\"role\": \"user\", \"content\": \"What is 3.1 * 4.2 + 5.5 * 6.5?\"}]\n",
    "})\n",
    "print(FormatMessages(result3[\"messages\"]))"
   ]
  },
  {
   "cell_type": "markdown",
   "id": "c5332cba",
   "metadata": {},
   "source": [
    "**What happens here:**\n",
    "\n",
    "The LLM emits two tool calls at once: one to multiply 3.1 by 4.2, and another to multiply 5.5 by 6.5. The agent framework runs them in parallel.\n",
    "\n",
    "There are two 🛠️ Tool Outputs (one for each multiplication).\n",
    "\n",
    "The LLM then sees both results and issues a final tool call to add them together.\n",
    "\n",
    "After that tool call, it returns the final answer.\n",
    "\n",
    "The history (ops) is updated with all operations in order:\n",
    "\n",
    "`[\"(multiply, 3.1, 4.2)\", \"(multiply, 5.5, 6.5)\", \"(add, 13.02, 35.75)\"]`\n",
    "\n",
    "This demonstrates how the agent can chain and combine tool usage to solve more complex tasks."
   ]
  }
 ],
 "metadata": {
  "kernelspec": {
   "display_name": "LLMenv",
   "language": "python",
   "name": "python3"
  },
  "language_info": {
   "codemirror_mode": {
    "name": "ipython",
    "version": 3
   },
   "file_extension": ".py",
   "mimetype": "text/x-python",
   "name": "python",
   "nbconvert_exporter": "python",
   "pygments_lexer": "ipython3",
   "version": "3.11.13"
  }
 },
 "nbformat": 4,
 "nbformat_minor": 5
}
